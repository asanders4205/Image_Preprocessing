{
 "cells": [
  {
   "cell_type": "code",
   "execution_count": null,
   "id": "e3643b6f",
   "metadata": {},
   "outputs": [
    {
     "name": "stdout",
     "output_type": "stream",
     "text": [
      "4.12.0\n"
     ]
    }
   ],
   "source": [
    "import pandas as pd\n",
    "import os\n",
    "import numpy as np\n",
    "import argparse\n",
    "from imutils import paths\n",
    "import cv2\n",
    "print(cv2.__version__)\n",
    "\n",
    "# Image qualtiy metrics\n",
    "# https://www.mathworks.com/help/images/image-quality-metrics.html\n",
    "# https://learnopencv.com/image-quality-assessment-brisque/\n",
    "# blur with opencv https://pyimagesearch.com/2015/09/07/blur-detection-with-opencv2/\n"
   ]
  },
  {
   "cell_type": "code",
   "execution_count": 21,
   "id": "3ee6b16f",
   "metadata": {},
   "outputs": [],
   "source": [
    "def variance_of_laplacian(image):\n",
    "\t# compute the Laplacian of the image and then return the focus\n",
    "\t# measure, which is simply the variance of the Laplacian\n",
    "\tprint(f'variance_of_laplacian: {cv2.Laplacian(image, cv2.CV_64F).var()}')\n",
    "\t\n",
    "\treturn cv2.Laplacian(image, cv2.CV_64F).var()\n"
   ]
  },
  {
   "cell_type": "code",
   "execution_count": 22,
   "id": "331d85e8",
   "metadata": {},
   "outputs": [],
   "source": [
    "\n",
    "\"\"\"Loop over directory, return variance for each image?\"\"\"\n",
    "def measure_blur(directory_path): # Return a dataframe\n",
    "    # define threshold\n",
    "    threshold = 100.0\n",
    "    \n",
    "    # Define series\n",
    "    blurriness_ratings = []\n",
    "    \n",
    "    # loop over the input images\n",
    "    for imagePath in paths.list_images(directory_path):\n",
    "        # load the image, convert it to grayscale, and compute the\n",
    "        # focus measure of the image using the Variance of Laplacian\n",
    "        # method\n",
    "        image = cv2.imread(imagePath)\n",
    "        gray = cv2.cvtColor(image, cv2.COLOR_BGR2GRAY)\n",
    "        fm = variance_of_laplacian(gray)\n",
    "        text = \"Not Blurry\"\n",
    "        # if the focus measure is less than the supplied threshold,\n",
    "        # then the image should be considered \"blurry\"\n",
    "        if fm < threshold:\n",
    "            text = \"Blurry\"\n",
    "        \n",
    "        blurriness_ratings.append(fm)\n",
    "        \n",
    "\n",
    "\n",
    "\n",
    "        \"\"\"# show the image\n",
    "        cv2.putText(image, \"{}: {:.2f}\".format(text, fm), (10, 30),\n",
    "            cv2.FONT_HERSHEY_SIMPLEX, 0.8, (0, 0, 255), 3)\n",
    "        cv2.imshow(\"Image\", image)\n",
    "        key = cv2.waitKey(0)\"\"\"\n",
    "    # End for\n",
    "\n",
    "    return blurriness_ratings"
   ]
  },
  {
   "cell_type": "code",
   "execution_count": 25,
   "id": "13e0c2f2",
   "metadata": {},
   "outputs": [],
   "source": [
    "# Test above function\n",
    "directory_path = 'data/input_images'\n",
    "\n",
    "# define threshold\n",
    "threshold = 100.0\n",
    "\n",
    "# Define series\n",
    "blurriness_ratings = []\n",
    "\n",
    "# loop over the input images\n",
    "for imagePath in paths.list_images(directory_path):\n",
    "    # load the image, convert it to grayscale, and compute the\n",
    "    # focus measure of the image using the Variance of Laplacian\n",
    "    # method\n",
    "    image = cv2.imread(imagePath)\n",
    "    gray = cv2.cvtColor(image, cv2.COLOR_BGR2GRAY)\n",
    "    fm = variance_of_laplacian(gray)\n",
    "    text = \"Not Blurry\"\n",
    "    # if the focus measure is less than the supplied threshold,\n",
    "    # then the image should be considered \"blurry\"\n",
    "    if fm < threshold:\n",
    "        text = \"Blurry\"\n",
    "    \n",
    "    blurriness_ratings.append(fm)\n",
    "    \n",
    "    print(f'fm: {fm}\\n')\n",
    "\n"
   ]
  },
  {
   "cell_type": "code",
   "execution_count": 29,
   "id": "8b3056a7",
   "metadata": {},
   "outputs": [
    {
     "name": "stdout",
     "output_type": "stream",
     "text": [
      "variance_of_laplacian: 88.87724287848687\n",
      "variance_of_laplacian: 521.9234574014408\n",
      "variance_of_laplacian: 285.0752901264932\n",
      "variance_of_laplacian: 171.87579948245548\n",
      "variance_of_laplacian: 45.03593018789252\n",
      "variance_of_laplacian: 231.58618855284294\n",
      "variance_of_laplacian: 176.83101736904064\n",
      "variance_of_laplacian: 175.1140618793288\n",
      "variance_of_laplacian: 5.205436705611646\n",
      "variance_of_laplacian: 2.5085334619361674\n"
     ]
    }
   ],
   "source": [
    "\"\"\" Just one image \"\"\"\n",
    "# measure, which is simply the variance of the Laplacian\n",
    "# imagePath = 'C:/Users/alecs/Documents/ML/Image_Preprocessing/data/input_images/Images_1.jpg'\n",
    "# image = cv2.imread(imagePath)\n",
    "# print(f'variance_of_laplacian: {cv2.Laplacian(image, cv2.CV_64F).var()}')\n",
    "\n",
    "\n",
    "\n",
    "\"\"\" All images in directory \"\"\"\n",
    "# directory_path = 'C:/Users/alecs/Documents/ML/Image_Preprocessing/data/input_images'\n",
    "directory_path = 'C:/Users/alecs/Documents/ML/Image_Preprocessing/data/sample_dir'\n",
    "\n",
    "\n",
    "# loop over the input images\n",
    "for imagePath in paths.list_images(directory_path):\n",
    "    # load the image, convert it to grayscale, and compute the focus measure of the image using the Variance of Laplacian method\n",
    "    image = cv2.imread(imagePath)\n",
    "    gray = cv2.cvtColor(image, cv2.COLOR_BGR2GRAY)\n",
    "    fm = variance_of_laplacian(gray)\n",
    "    text = \"Not Blurry\"\n",
    "    # if the focus measure is less than the supplied threshold,\n",
    "    # then the image should be considered \"blurry\"\n",
    "    if fm < threshold:\n",
    "        text = \"Blurry\"\n",
    "    \n",
    "    blurriness_ratings.append(fm)\n",
    "    \n",
    "\n"
   ]
  },
  {
   "cell_type": "markdown",
   "id": "cfa9b50e",
   "metadata": {},
   "source": [
    "\n",
    "\"\"\"\n",
    "\n",
    "    # Convert csv to df\n",
    "    df = pd.read_csv(directory_path)\n",
    "\n",
    "    # Get number of ratings\n",
    "    num_of_ratings = blurriness_ratings.size\n",
    "\n",
    "    # Make sure there's a rating for every image\n",
    "    assert df.length == num_of_ratings\n",
    "\n",
    "    # print(f'df length: {df.length}')\n",
    "\n",
    "    # print(f'num_of_ratings: {num_of_ratings}')\n",
    "\n",
    "\"\"\"\n",
    "\n",
    "\n",
    "\n",
    "\n",
    "    # src = 'data/input_images/Images_1.jpg' # sample image\n",
    "    \n",
    "    # # Read image\n",
    "    # image = cv2.imread(src)\n",
    "    # if image is None:\n",
    "    #       raise FileNotFoundError(f'Could not read image at {src}')\n",
    "    \n",
    "\n",
    "    #  # Convert the image to grayscale\n",
    "    # # src_gray = cv2.cvtColor(src, cv2.COLOR_BGR2GRAY)\n",
    "    \n",
    "    # src_gray = cv2.imread(src,cv2.IMREAD_GRAYSCALE)\n",
    "    \n",
    "    # cv2.imshow(\"Image\", src_gray)\n",
    "    # cv2.waitKey(0)\n",
    "    # cv2.destroyAllWindows()\n"
   ]
  }
 ],
 "metadata": {
  "kernelspec": {
   "display_name": "venv",
   "language": "python",
   "name": "python3"
  },
  "language_info": {
   "codemirror_mode": {
    "name": "ipython",
    "version": 3
   },
   "file_extension": ".py",
   "mimetype": "text/x-python",
   "name": "python",
   "nbconvert_exporter": "python",
   "pygments_lexer": "ipython3",
   "version": "3.13.1"
  }
 },
 "nbformat": 4,
 "nbformat_minor": 5
}
