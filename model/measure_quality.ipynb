{
 "cells": [
  {
   "cell_type": "code",
   "execution_count": 7,
   "id": "e3643b6f",
   "metadata": {},
   "outputs": [
    {
     "name": "stdout",
     "output_type": "stream",
     "text": [
      "4.12.0\n"
     ]
    }
   ],
   "source": [
    "import pandas as pd\n",
    "import os\n",
    "import numpy as np\n",
    "import argparse\n",
    "from imutils import paths\n",
    "import cv2\n",
    "print(cv2.__version__)"
   ]
  },
  {
   "cell_type": "code",
   "execution_count": 8,
   "id": "316ef34c",
   "metadata": {},
   "outputs": [],
   "source": [
    "# Image qualtiy metrics\n",
    "# https://www.mathworks.com/help/images/image-quality-metrics.html\n",
    "# https://learnopencv.com/image-quality-assessment-brisque/\n",
    "# blur with opencv https://pyimagesearch.com/2015/09/07/blur-detection-with-opencv2/\n"
   ]
  },
  {
   "cell_type": "code",
   "execution_count": 9,
   "id": "3ee6b16f",
   "metadata": {},
   "outputs": [],
   "source": [
    "def variance_of_laplacian(image):\n",
    "\t# compute the Laplacian of the image and then return the focus\n",
    "\t# measure, which is simply the variance of the Laplacian\n",
    "\treturn cv2.Laplacian(image, cv2.CV_64F).var()\n"
   ]
  },
  {
   "cell_type": "code",
   "execution_count": 10,
   "id": "331d85e8",
   "metadata": {},
   "outputs": [],
   "source": [
    "\n",
    "'''Loop over directory, return variance for each image?'''\n",
    "def measure_blur(directory_path): # Return a dataframe\n",
    "    # define threshold\n",
    "    threshold = 100.0\n",
    "    \n",
    "    # Define series\n",
    "    blurriness_ratings = []\n",
    "    \n",
    "    # loop over the input images\n",
    "    for imagePath in paths.list_images(directory_path):\n",
    "        # load the image, convert it to grayscale, and compute the\n",
    "        # focus measure of the image using the Variance of Laplacian\n",
    "        # method\n",
    "        image = cv2.imread(imagePath)\n",
    "        gray = cv2.cvtColor(image, cv2.COLOR_BGR2GRAY)\n",
    "        fm = variance_of_laplacian(gray)\n",
    "        text = \"Not Blurry\"\n",
    "        # if the focus measure is less than the supplied threshold,\n",
    "        # then the image should be considered \"blurry\"\n",
    "        if fm < threshold:\n",
    "            text = \"Blurry\"\n",
    "        \n",
    "        blurriness_ratings.append(fm)\n",
    "        '''# show the image\n",
    "        cv2.putText(image, \"{}: {:.2f}\".format(text, fm), (10, 30),\n",
    "            cv2.FONT_HERSHEY_SIMPLEX, 0.8, (0, 0, 255), 3)\n",
    "        cv2.imshow(\"Image\", image)\n",
    "        key = cv2.waitKey(0)'''\n",
    "    # End for\n",
    "\n",
    "    return blurriness_ratings"
   ]
  },
  {
   "cell_type": "code",
   "execution_count": 11,
   "id": "88ce3e5f",
   "metadata": {},
   "outputs": [
    {
     "name": "stdout",
     "output_type": "stream",
     "text": [
      "[]\n"
     ]
    },
    {
     "data": {
      "text/plain": [
       "\"\\n\\n    # Convert csv to df\\n    df = pd.read_csv(directory_path)\\n\\n    # Get number of ratings\\n    num_of_ratings = blurriness_ratings.size\\n\\n    # Make sure there's a rating for every image\\n    assert df.length == num_of_ratings\\n\\n    # print(f'df length: {df.length}')\\n\\n    # print(f'num_of_ratings: {num_of_ratings}')\\n\\n\""
      ]
     },
     "execution_count": 11,
     "metadata": {},
     "output_type": "execute_result"
    }
   ],
   "source": [
    "\n",
    "# Call functions (when running, include import statements)\n",
    "# key = 'full_images_filepath'\n",
    "# input_path = os.getenv(key)\n",
    "# measure_blur(input_path)\n",
    "\n",
    "\n",
    "image_blurs = measure_blur('data/input_images')\n",
    "\n",
    "print(image_blurs[:5])\n",
    "\n",
    "\n",
    "'''\n",
    "\n",
    "    # Convert csv to df\n",
    "    df = pd.read_csv(directory_path)\n",
    "\n",
    "    # Get number of ratings\n",
    "    num_of_ratings = blurriness_ratings.size\n",
    "\n",
    "    # Make sure there's a rating for every image\n",
    "    assert df.length == num_of_ratings\n",
    "\n",
    "    # print(f'df length: {df.length}')\n",
    "\n",
    "    # print(f'num_of_ratings: {num_of_ratings}')\n",
    "\n",
    "'''\n",
    "\n",
    "\n",
    "\n",
    "\n",
    "    # src = 'data/input_images/Images_1.jpg' # sample image\n",
    "    \n",
    "    # # Read image\n",
    "    # image = cv2.imread(src)\n",
    "    # if image is None:\n",
    "    #       raise FileNotFoundError(f'Could not read image at {src}')\n",
    "    \n",
    "\n",
    "    #  # Convert the image to grayscale\n",
    "    # # src_gray = cv2.cvtColor(src, cv2.COLOR_BGR2GRAY)\n",
    "    \n",
    "    # src_gray = cv2.imread(src,cv2.IMREAD_GRAYSCALE)\n",
    "    \n",
    "    # cv2.imshow(\"Image\", src_gray)\n",
    "    # cv2.waitKey(0)\n",
    "    # cv2.destroyAllWindows()\n"
   ]
  },
  {
   "cell_type": "code",
   "execution_count": null,
   "id": "65e2799e",
   "metadata": {},
   "outputs": [],
   "source": []
  }
 ],
 "metadata": {
  "kernelspec": {
   "display_name": "venv",
   "language": "python",
   "name": "python3"
  },
  "language_info": {
   "codemirror_mode": {
    "name": "ipython",
    "version": 3
   },
   "file_extension": ".py",
   "mimetype": "text/x-python",
   "name": "python",
   "nbconvert_exporter": "python",
   "pygments_lexer": "ipython3",
   "version": "3.13.1"
  }
 },
 "nbformat": 4,
 "nbformat_minor": 5
}
